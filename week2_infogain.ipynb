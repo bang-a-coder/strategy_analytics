{
 "cells": [
  {
   "cell_type": "code",
   "execution_count": 55,
   "metadata": {},
   "outputs": [],
   "source": [
    "import pandas as pd\n",
    "import swifter\n",
    "import numpy as np\n",
    "import matplotlib.pyplot as plt\n",
    "import seaborn as sns\n",
    "import statsmodels.api as sm\n",
    "\n",
    "\n",
    "sns.set_theme(style=\"whitegrid\")\n",
    "plt.rcParams['figure.figsize'] = [12, 5]\n"
   ]
  },
  {
   "cell_type": "code",
   "execution_count": 56,
   "metadata": {},
   "outputs": [],
   "source": [
    "df = pd.read_csv(\"./Data/Part 1 - Kickstarter.csv\")"
   ]
  },
  {
   "cell_type": "markdown",
   "metadata": {},
   "source": [
    "Exercise 1: Information gain with categories\n",
    "In this first exercise, we focus on how to compute information gain (see book for definition, formulas,\n",
    "etc.). Go to sheet “Ex1” in the Excel file.\n",
    "As a first exercise, we want to know “What is the information gain of creating two segments of\n",
    "crowdfunding campaigns based on their country (US vs non-US) regarding campaign success?”\n",
    "In order to do so, compute the following values for the first table:\n",
    "- Number of campaigns that are in each segment all/US/non-US (column C)\n",
    "- Fraction of campaigns that are in each segment all/US/non-US (column D)\n",
    "- Number of all/US/non-US campaigns that are successful (column E)\n",
    "- Fraction of all/US/non-US campaigns that are successful (column F)\n",
    "- Entropy score of each segment based upon fraction successful/failed (column G)\n",
    "- The information gain (column H)\n",
    "Hint: to compute entropy with log values using a base of two, use “=LOG(VALUE, 2)” in Excel. If you\n",
    "prefer a manual calculator, it varies by brand and type."
   ]
  },
  {
   "cell_type": "code",
   "execution_count": 57,
   "metadata": {},
   "outputs": [
    {
     "name": "stdout",
     "output_type": "stream",
     "text": [
      "Total number of campaigns: 331465\n",
      "Number of US campaigns: 261360, 0.7884995399212587%\n",
      "Number of non-US campaigns: 70105, 0.21150046007874135%\n"
     ]
    }
   ],
   "source": [
    "df['us_campaigns'] = df['country'].apply(lambda x: \"US\" if x == 'US' else \"non-US\")\n",
    "\n",
    "us_campaigns = df.us_campaigns.value_counts()\n",
    "total_campaigns = len(df)\n",
    "share_us = us_campaigns['US'] / total_campaigns\n",
    "share_non_us = us_campaigns['non-US'] / total_campaigns\n",
    "\n",
    "print(f\"Total number of campaigns: {total_campaigns}\")\n",
    "print(f\"Number of US campaigns: {us_campaigns['US']}, {share_us}%\")\n",
    "print(f\"Number of non-US campaigns: {us_campaigns['non-US']}, {share_non_us}%\")\n"
   ]
  },
  {
   "cell_type": "code",
   "execution_count": 58,
   "metadata": {},
   "outputs": [
    {
     "name": "stdout",
     "output_type": "stream",
     "text": [
      "Total number of successful campaigns: 133851, 0.404%\n",
      "Number of successful US campaigns: 109299, 0.42%\n",
      "Number of successful non-US campaigns: 24552, 0.35%\n"
     ]
    }
   ],
   "source": [
    "total_successes = df.outcome.value_counts()['successful']\n",
    "prob_success = total_successes / total_campaigns\n",
    "prob_failure = 1 - prob_success\n",
    "\n",
    "geo_success = df.groupby('outcome')['us_campaigns'].value_counts()['successful']\n",
    "prob_success_us = geo_success['US'] / us_campaigns['US']\n",
    "prob_success_non_us = geo_success['non-US'] / us_campaigns['non-US']\n",
    "\n",
    "print(f\"Total number of successful campaigns: {total_successes}, {np.round(prob_success, 3)}%\")\n",
    "print(f\"Number of successful US campaigns: {geo_success['US']}, {np.round(prob_success_us, 2)}%\")\n",
    "print(f\"Number of successful non-US campaigns: {geo_success['non-US']}, {np.round(prob_success_non_us, 2)}%\")"
   ]
  },
  {
   "cell_type": "code",
   "execution_count": 59,
   "metadata": {},
   "outputs": [
    {
     "name": "stdout",
     "output_type": "stream",
     "text": [
      "Parent entropy: 0.9731393096004877\n",
      "US entropy: 0.9806029093573498\n",
      "Non-US entropy: 0.9342621788423611\n",
      "Information gain: 0.00234\n"
     ]
    }
   ],
   "source": [
    "entropy_parent = -prob_success * np.log2(prob_success) - prob_failure * np.log2(prob_failure)\n",
    "\n",
    "entropy_us = -prob_success_us * np.log2(prob_success_us) - (1-prob_success_us) * np.log2(1-prob_success_us)\n",
    "entropy_non_us = -prob_success_non_us * np.log2(prob_success_non_us) - (1-prob_success_non_us) * np.log2(1-prob_success_non_us)\n",
    "info_gain = entropy_parent - (share_us * entropy_us + share_non_us * entropy_non_us)\n",
    "\n",
    "print(f\"Parent entropy: {entropy_parent}\")\n",
    "print(f\"US entropy: {entropy_us}\")\n",
    "print(f\"Non-US entropy: {entropy_non_us}\")\n",
    "print(f\"Information gain: {np.round(info_gain, 5)}\")"
   ]
  },
  {
   "cell_type": "code",
   "execution_count": 60,
   "metadata": {},
   "outputs": [
    {
     "data": {
      "image/png": "[encoded data removed]",
      "text/plain": [
       "<Figure size 1200x500 with 2 Axes>"
      ]
     },
     "metadata": {},
     "output_type": "display_data"
    }
   ],
   "source": [
    "# Data\n",
    "labels = ['US', 'Non-US']\n",
    "entropy_values = [entropy_us, entropy_non_us]\n",
    "proportions = [share_us, share_non_us]\n",
    "\n",
    "# Define x positions to match proportional breakdown\n",
    "x_positions = [0, share_us]  # US starts at 0, Non-US starts at share_us\n",
    "\n",
    "# Create figure\n",
    "fig, axes = plt.subplots(1, 2, figsize=(12, 5))\n",
    "\n",
    "# Plot 1: Parent Entropy\n",
    "axes[0].bar(['Parent'], [entropy_parent], alpha=0.6, width=0.5)\n",
    "axes[0].set_title('Parent Entropy')\n",
    "axes[0].set_ylabel('Entropy')\n",
    "axes[0].grid(True)\n",
    "\n",
    "# Plot 2: Breakdown of Parent Entropy\n",
    "axes[1].bar(x_positions, entropy_values, width=proportions, color=['lightblue', 'lavender'], alpha=0.6, align='edge', edgecolor='black')\n",
    "axes[1].set_title('Entropy Breakdown by Geography')\n",
    "axes[1].set_ylabel('Entropy')\n",
    "axes[1].set_xlabel('Proportion (0 to 1 scale)')\n",
    "axes[1].set_xlim(0, 1)\n",
    "axes[1].set_xticks([0, share_us, 1])  # Marks start, US end, and Non-US end\n",
    "axes[1].set_xticklabels(['0', 'US', '1'])\n",
    "axes[1].grid(True)\n",
    "\n",
    "# Improve layout\n",
    "plt.tight_layout()\n",
    "plt.show()"
   ]
  },
  {
   "cell_type": "markdown",
   "metadata": {},
   "source": [
    "Information gain can also be computed by splitting a sample into multiple segments. Therefore we\n",
    "want to know “What is the information gain of creating four segments of campaigns based on their\n",
    "countries, namely US, Canada, Great Britain, and others, regarding campaign success?”\n",
    "Use the second table on sheet “Ex1”, compute the information gain based on splitting it into four\n",
    "segments (US, Canada, Great Britain, and Other)."
   ]
  },
  {
   "cell_type": "code",
   "execution_count": 61,
   "metadata": {},
   "outputs": [],
   "source": [
    "df['country_groups'] = df['country'].map({'US': 'US', 'CA': 'CA', 'GB': 'GB'}).fillna('Other')"
   ]
  },
  {
   "cell_type": "code",
   "execution_count": 62,
   "metadata": {},
   "outputs": [
    {
     "data": {
      "text/plain": [
       "country_groups\n",
       "US       109299\n",
       "GB        12067\n",
       "Other      8351\n",
       "CA         4134\n",
       "Name: count, dtype: int64"
      ]
     },
     "execution_count": 62,
     "metadata": {},
     "output_type": "execute_result"
    }
   ],
   "source": [
    "df.groupby('outcome')['country_groups'].value_counts()['successful']"
   ]
  },
  {
   "cell_type": "code",
   "execution_count": 63,
   "metadata": {},
   "outputs": [
    {
     "data": {
      "text/html": [
       "<div>\n",
       "<style scoped>\n",
       "    .dataframe tbody tr th:only-of-type {\n",
       "        vertical-align: middle;\n",
       "    }\n",
       "\n",
       "    .dataframe tbody tr th {\n",
       "        vertical-align: top;\n",
       "    }\n",
       "\n",
       "    .dataframe thead th {\n",
       "        text-align: right;\n",
       "    }\n",
       "</style>\n",
       "<table border=\"1\" class=\"dataframe\">\n",
       "  <thead>\n",
       "    <tr style=\"text-align: right;\">\n",
       "      <th></th>\n",
       "      <th>success_num</th>\n",
       "      <th>success_prob</th>\n",
       "      <th>share_of_total</th>\n",
       "    </tr>\n",
       "  </thead>\n",
       "  <tbody>\n",
       "    <tr>\n",
       "      <th>US</th>\n",
       "      <td>109299</td>\n",
       "      <td>0.418193</td>\n",
       "      <td>0.788500</td>\n",
       "    </tr>\n",
       "    <tr>\n",
       "      <th>GB</th>\n",
       "      <td>12067</td>\n",
       "      <td>0.409690</td>\n",
       "      <td>0.088860</td>\n",
       "    </tr>\n",
       "    <tr>\n",
       "      <th>Other</th>\n",
       "      <td>8351</td>\n",
       "      <td>0.295287</td>\n",
       "      <td>0.085321</td>\n",
       "    </tr>\n",
       "    <tr>\n",
       "      <th>CA</th>\n",
       "      <td>4134</td>\n",
       "      <td>0.334196</td>\n",
       "      <td>0.037319</td>\n",
       "    </tr>\n",
       "  </tbody>\n",
       "</table>\n",
       "</div>"
      ],
      "text/plain": [
       "       success_num  success_prob  share_of_total\n",
       "US          109299      0.418193        0.788500\n",
       "GB           12067      0.409690        0.088860\n",
       "Other         8351      0.295287        0.085321\n",
       "CA            4134      0.334196        0.037319"
      ]
     },
     "execution_count": 63,
     "metadata": {},
     "output_type": "execute_result"
    }
   ],
   "source": [
    "# Get total counts per country\n",
    "total_counts = df['country_groups'].value_counts()\n",
    "\n",
    "# Get successful counts per country \n",
    "success_counts = df[df['outcome']=='successful']['country_groups'].value_counts()\n",
    "\n",
    "# Calculate success rates and store both absolute and relative numbers\n",
    "groups_sucesses = {\n",
    "    country: (success_count, success_count/total_counts[country])\n",
    "    for country, success_count in success_counts.items()\n",
    "}\n",
    "    \n",
    "\n",
    "groups_sucesses =pd.DataFrame.from_dict(groups_sucesses, orient='index', columns=['success_num', 'success_prob'])\n",
    "groups_sucesses['share_of_total'] = total_counts[groups_sucesses.index] / total_counts.sum()\n",
    "groups_sucesses"
   ]
  },
  {
   "cell_type": "code",
   "execution_count": 64,
   "metadata": {},
   "outputs": [
    {
     "name": "stdout",
     "output_type": "stream",
     "text": [
      "Parent entropy: 0.9731393096004877\n"
     ]
    },
    {
     "data": {
      "text/html": [
       "<div>\n",
       "<style scoped>\n",
       "    .dataframe tbody tr th:only-of-type {\n",
       "        vertical-align: middle;\n",
       "    }\n",
       "\n",
       "    .dataframe tbody tr th {\n",
       "        vertical-align: top;\n",
       "    }\n",
       "\n",
       "    .dataframe thead th {\n",
       "        text-align: right;\n",
       "    }\n",
       "</style>\n",
       "<table border=\"1\" class=\"dataframe\">\n",
       "  <thead>\n",
       "    <tr style=\"text-align: right;\">\n",
       "      <th></th>\n",
       "      <th>success_num</th>\n",
       "      <th>success_prob</th>\n",
       "      <th>share_of_total</th>\n",
       "      <th>entropy</th>\n",
       "    </tr>\n",
       "  </thead>\n",
       "  <tbody>\n",
       "    <tr>\n",
       "      <th>US</th>\n",
       "      <td>109299</td>\n",
       "      <td>0.418193</td>\n",
       "      <td>0.788500</td>\n",
       "      <td>0.980603</td>\n",
       "    </tr>\n",
       "    <tr>\n",
       "      <th>GB</th>\n",
       "      <td>12067</td>\n",
       "      <td>0.409690</td>\n",
       "      <td>0.088860</td>\n",
       "      <td>0.976337</td>\n",
       "    </tr>\n",
       "    <tr>\n",
       "      <th>Other</th>\n",
       "      <td>8351</td>\n",
       "      <td>0.295287</td>\n",
       "      <td>0.085321</td>\n",
       "      <td>0.875453</td>\n",
       "    </tr>\n",
       "    <tr>\n",
       "      <th>CA</th>\n",
       "      <td>4134</td>\n",
       "      <td>0.334196</td>\n",
       "      <td>0.037319</td>\n",
       "      <td>0.919156</td>\n",
       "    </tr>\n",
       "  </tbody>\n",
       "</table>\n",
       "</div>"
      ],
      "text/plain": [
       "       success_num  success_prob  share_of_total   entropy\n",
       "US          109299      0.418193        0.788500  0.980603\n",
       "GB           12067      0.409690        0.088860  0.976337\n",
       "Other         8351      0.295287        0.085321  0.875453\n",
       "CA            4134      0.334196        0.037319  0.919156"
      ]
     },
     "execution_count": 64,
     "metadata": {},
     "output_type": "execute_result"
    }
   ],
   "source": [
    "print(f\"Parent entropy: {entropy_parent}\")\n",
    "\n",
    "groups_sucesses['entropy'] = (-groups_sucesses['success_prob'] * np.log2(groups_sucesses['success_prob']) \n",
    "                              - (1-groups_sucesses['success_prob']) * np.log2(1-groups_sucesses['success_prob']))\n",
    "\n",
    "groups_sucesses"
   ]
  },
  {
   "cell_type": "code",
   "execution_count": 65,
   "metadata": {},
   "outputs": [
    {
     "name": "stdout",
     "output_type": "stream",
     "text": [
      "Information gain: 0.004180149552692414\n"
     ]
    }
   ],
   "source": [
    "groups_weighted_entropy = 0\n",
    "\n",
    "for country in groups_sucesses.index:\n",
    "    groups_weighted_entropy += groups_sucesses['share_of_total'][country] * groups_sucesses['entropy'][country]\n",
    "    \n",
    "info_gain = entropy_parent - groups_weighted_entropy\n",
    "print(f\"Information gain: {info_gain}\")"
   ]
  },
  {
   "cell_type": "code",
   "execution_count": 66,
   "metadata": {},
   "outputs": [
    {
     "data": {
      "image/png": "[encoded data removed]",
      "text/plain": [
       "<Figure size 1200x500 with 2 Axes>"
      ]
     },
     "metadata": {},
     "output_type": "display_data"
    }
   ],
   "source": [
    "labels = groups_sucesses.index\n",
    "entropy_values = groups_sucesses['entropy']\n",
    "proportions = groups_sucesses['share_of_total']\n",
    "\n",
    "# Define x positions to match proportional breakdown\n",
    "x_positions = [0] + list(groups_sucesses['share_of_total'].cumsum())\n",
    "# Create figure\n",
    "fig, axes = plt.subplots(1, 2, figsize=(12, 5))\n",
    "\n",
    "# Plot 1: Parent Entropy\n",
    "axes[0].bar(['Parent'], [entropy_parent], alpha=0.6, width=0.5)\n",
    "axes[0].set_title('Parent Entropy')\n",
    "axes[0].set_ylabel('Entropy')\n",
    "axes[0].grid(True)\n",
    "\n",
    "# Plot 2: Breakdown of Parent Entropy\n",
    "colors = ['lightblue', 'lavender', 'lightgreen', 'lightsalmon']\n",
    "axes[1].bar(x_positions[:-1], entropy_values, width=proportions, color=colors, alpha=0.6, align='edge', edgecolor='black')\n",
    "axes[1].set_title('Entropy Breakdown by Geography')\n",
    "axes[1].set_ylabel('Entropy')\n",
    "axes[1].set_xlabel('Proportion (0 to 1 scale)')\n",
    "axes[1].set_xlim(0, 1)\n",
    "axes[1].set_xticks(np.cumsum([0] + list(proportions[:-1])))  # Mark boundaries between countries\n",
    "axes[1].set_xticklabels(labels)\n",
    "axes[1].grid(True)\n",
    "\n",
    "# Improve layout\n",
    "plt.tight_layout()\n",
    "plt.show()\n",
    "\n"
   ]
  },
  {
   "cell_type": "markdown",
   "metadata": {},
   "source": [
    "Exercise 2: Gaining insights ** feel free to skip this if it takes too long (see the additional\n",
    "dataset on canvas)\n",
    "The current dataset contains the raw information about crowdfunding campaigns. Often, we can get\n",
    "more useful variables about of these raw details. Currently missing key variables are:\n",
    "- Outcome dummy (a zero/one variable for failure/successful outcome)\n",
    "- Duration of a campaign (difference between start date and end date rounded up in full days)\n",
    "- Average pledge (average size of a backer’s pledge, using ‘usd_pledged_real’ and ‘backers’,\n",
    "rounded to full USD, and zero in case of errors)\n",
    "- Success in same main category (percentage of projects successful in the same main category)\n",
    "- Success in same sub-category (percentage of projects successful in the same sub-category)\n",
    "Create the first variable in sheet “Data” in column P. You can use a function or do this manually.\n",
    "Compute the next two variables in columns Q and R, using ‘=ROUNDUP’ and ‘=ROUND’ respectively.\n",
    "Compute the last two variables using ‘=COUNTIFS’, ‘=AVERAGEIFS’ and/or ‘=SUMIFS’. As this takes\n",
    "very long, we have already done this from row 2,001 onward. You only need to do this for the first\n",
    "2,000 observations. If you did this correctly, the full column average of these variables are 34, 66,\n",
    "40.38%, and 40.38%, for columns Q, R, S, and T, respectively."
   ]
  },
  {
   "cell_type": "code",
   "execution_count": 67,
   "metadata": {},
   "outputs": [
    {
     "name": "stderr",
     "output_type": "stream",
     "text": [
      "/var/folders/wm/6y1bhz7x0ml90h2rz18zmclm0000gn/T/ipykernel_76348/4274870405.py:3: UserWarning: Could not infer format, so each element will be parsed individually, falling back to `dateutil`. To ensure parsing is consistent and as-expected, please specify a format.\n",
      "  df.launched = pd.to_datetime(df.launched)\n",
      "/var/folders/wm/6y1bhz7x0ml90h2rz18zmclm0000gn/T/ipykernel_76348/4274870405.py:4: UserWarning: Could not infer format, so each element will be parsed individually, falling back to `dateutil`. To ensure parsing is consistent and as-expected, please specify a format.\n",
      "  df.deadline = pd.to_datetime(df.deadline)\n"
     ]
    }
   ],
   "source": [
    "df = pd.concat([df, pd.get_dummies(df['outcome'], prefix='outcome').astype(int)], axis=1)\n",
    "\n",
    "df.launched = pd.to_datetime(df.launched)\n",
    "df.deadline = pd.to_datetime(df.deadline)\n",
    "\n",
    "df['average_pledge'] = df['usd_pledged_real'] / df['backers']\n",
    "df['average_pledge'] = df['average_pledge'].fillna(0).round(0)\n",
    "df['duration'] = (df.deadline - df.launched).dt.days\n",
    "df['duration'] = df['duration'].fillna(0).round(0)\n"
   ]
  },
  {
   "cell_type": "code",
   "execution_count": 68,
   "metadata": {},
   "outputs": [
    {
     "data": {
      "text/html": [
       "<div>\n",
       "<style scoped>\n",
       "    .dataframe tbody tr th:only-of-type {\n",
       "        vertical-align: middle;\n",
       "    }\n",
       "\n",
       "    .dataframe tbody tr th {\n",
       "        vertical-align: top;\n",
       "    }\n",
       "\n",
       "    .dataframe thead th {\n",
       "        text-align: right;\n",
       "    }\n",
       "</style>\n",
       "<table border=\"1\" class=\"dataframe\">\n",
       "  <thead>\n",
       "    <tr style=\"text-align: right;\">\n",
       "      <th></th>\n",
       "      <th>main_category</th>\n",
       "      <th>successful</th>\n",
       "      <th>failed</th>\n",
       "      <th>success_rate</th>\n",
       "    </tr>\n",
       "  </thead>\n",
       "  <tbody>\n",
       "    <tr>\n",
       "      <th>0</th>\n",
       "      <td>Technology</td>\n",
       "      <td>20613</td>\n",
       "      <td>6433</td>\n",
       "      <td>0.762146</td>\n",
       "    </tr>\n",
       "    <tr>\n",
       "      <th>1</th>\n",
       "      <td>Journalism</td>\n",
       "      <td>3136</td>\n",
       "      <td>1012</td>\n",
       "      <td>0.756027</td>\n",
       "    </tr>\n",
       "    <tr>\n",
       "      <th>2</th>\n",
       "      <td>Crafts</td>\n",
       "      <td>5703</td>\n",
       "      <td>2115</td>\n",
       "      <td>0.729470</td>\n",
       "    </tr>\n",
       "    <tr>\n",
       "      <th>3</th>\n",
       "      <td>Food</td>\n",
       "      <td>15969</td>\n",
       "      <td>6085</td>\n",
       "      <td>0.724086</td>\n",
       "    </tr>\n",
       "    <tr>\n",
       "      <th>4</th>\n",
       "      <td>Fashion</td>\n",
       "      <td>14181</td>\n",
       "      <td>5593</td>\n",
       "      <td>0.717154</td>\n",
       "    </tr>\n",
       "    <tr>\n",
       "      <th>5</th>\n",
       "      <td>Photography</td>\n",
       "      <td>6384</td>\n",
       "      <td>3305</td>\n",
       "      <td>0.658892</td>\n",
       "    </tr>\n",
       "    <tr>\n",
       "      <th>6</th>\n",
       "      <td>Publishing</td>\n",
       "      <td>23113</td>\n",
       "      <td>12300</td>\n",
       "      <td>0.652670</td>\n",
       "    </tr>\n",
       "    <tr>\n",
       "      <th>7</th>\n",
       "      <td>Design</td>\n",
       "      <td>14814</td>\n",
       "      <td>10549</td>\n",
       "      <td>0.584079</td>\n",
       "    </tr>\n",
       "    <tr>\n",
       "      <th>8</th>\n",
       "      <td>Film &amp; Video</td>\n",
       "      <td>32892</td>\n",
       "      <td>23612</td>\n",
       "      <td>0.582118</td>\n",
       "    </tr>\n",
       "    <tr>\n",
       "      <th>9</th>\n",
       "      <td>Games</td>\n",
       "      <td>16003</td>\n",
       "      <td>12518</td>\n",
       "      <td>0.561095</td>\n",
       "    </tr>\n",
       "    <tr>\n",
       "      <th>10</th>\n",
       "      <td>Art</td>\n",
       "      <td>14131</td>\n",
       "      <td>11510</td>\n",
       "      <td>0.551110</td>\n",
       "    </tr>\n",
       "    <tr>\n",
       "      <th>11</th>\n",
       "      <td>Music</td>\n",
       "      <td>21696</td>\n",
       "      <td>24105</td>\n",
       "      <td>0.473701</td>\n",
       "    </tr>\n",
       "    <tr>\n",
       "      <th>12</th>\n",
       "      <td>Comics</td>\n",
       "      <td>4036</td>\n",
       "      <td>5842</td>\n",
       "      <td>0.408585</td>\n",
       "    </tr>\n",
       "    <tr>\n",
       "      <th>13</th>\n",
       "      <td>Theater</td>\n",
       "      <td>3708</td>\n",
       "      <td>6534</td>\n",
       "      <td>0.362039</td>\n",
       "    </tr>\n",
       "    <tr>\n",
       "      <th>14</th>\n",
       "      <td>Dance</td>\n",
       "      <td>1235</td>\n",
       "      <td>2338</td>\n",
       "      <td>0.345648</td>\n",
       "    </tr>\n",
       "  </tbody>\n",
       "</table>\n",
       "</div>"
      ],
      "text/plain": [
       "   main_category  successful  failed  success_rate\n",
       "0     Technology       20613    6433      0.762146\n",
       "1     Journalism        3136    1012      0.756027\n",
       "2         Crafts        5703    2115      0.729470\n",
       "3           Food       15969    6085      0.724086\n",
       "4        Fashion       14181    5593      0.717154\n",
       "5    Photography        6384    3305      0.658892\n",
       "6     Publishing       23113   12300      0.652670\n",
       "7         Design       14814   10549      0.584079\n",
       "8   Film & Video       32892   23612      0.582118\n",
       "9          Games       16003   12518      0.561095\n",
       "10           Art       14131   11510      0.551110\n",
       "11         Music       21696   24105      0.473701\n",
       "12        Comics        4036    5842      0.408585\n",
       "13       Theater        3708    6534      0.362039\n",
       "14         Dance        1235    2338      0.345648"
      ]
     },
     "execution_count": 68,
     "metadata": {},
     "output_type": "execute_result"
    }
   ],
   "source": [
    "categories = pd.DataFrame(df.groupby('main_category')['outcome'].value_counts()).unstack().droplevel(0, axis=1).reset_index()\n",
    "categories.columns = ['main_category', 'successful', 'failed']\n",
    "\n",
    "categories['success_rate'] = categories['successful'] / (categories['successful'] + categories['failed'])\n",
    "\n",
    "categories.sort_values('success_rate', ascending=False, inplace=True)\n",
    "categories.reset_index(drop=True, inplace=True)\n",
    "\n",
    "categories\n"
   ]
  },
  {
   "cell_type": "code",
   "execution_count": 69,
   "metadata": {},
   "outputs": [
    {
     "data": {
      "text/html": [
       "<div>\n",
       "<style scoped>\n",
       "    .dataframe tbody tr th:only-of-type {\n",
       "        vertical-align: middle;\n",
       "    }\n",
       "\n",
       "    .dataframe tbody tr th {\n",
       "        vertical-align: top;\n",
       "    }\n",
       "\n",
       "    .dataframe thead th {\n",
       "        text-align: right;\n",
       "    }\n",
       "</style>\n",
       "<table border=\"1\" class=\"dataframe\">\n",
       "  <thead>\n",
       "    <tr style=\"text-align: right;\">\n",
       "      <th></th>\n",
       "      <th>sub_category</th>\n",
       "      <th>successful</th>\n",
       "      <th>failed</th>\n",
       "      <th>success_rate</th>\n",
       "    </tr>\n",
       "  </thead>\n",
       "  <tbody>\n",
       "    <tr>\n",
       "      <th>0</th>\n",
       "      <td>Apps</td>\n",
       "      <td>4909</td>\n",
       "      <td>378</td>\n",
       "      <td>0.928504</td>\n",
       "    </tr>\n",
       "    <tr>\n",
       "      <th>1</th>\n",
       "      <td>Web</td>\n",
       "      <td>3866</td>\n",
       "      <td>443</td>\n",
       "      <td>0.897192</td>\n",
       "    </tr>\n",
       "    <tr>\n",
       "      <th>2</th>\n",
       "      <td>Mobile Games</td>\n",
       "      <td>1290</td>\n",
       "      <td>153</td>\n",
       "      <td>0.893971</td>\n",
       "    </tr>\n",
       "    <tr>\n",
       "      <th>3</th>\n",
       "      <td>Video</td>\n",
       "      <td>334</td>\n",
       "      <td>51</td>\n",
       "      <td>0.867532</td>\n",
       "    </tr>\n",
       "    <tr>\n",
       "      <th>4</th>\n",
       "      <td>Food Trucks</td>\n",
       "      <td>1357</td>\n",
       "      <td>217</td>\n",
       "      <td>0.862135</td>\n",
       "    </tr>\n",
       "    <tr>\n",
       "      <th>...</th>\n",
       "      <td>...</td>\n",
       "      <td>...</td>\n",
       "      <td>...</td>\n",
       "      <td>...</td>\n",
       "    </tr>\n",
       "    <tr>\n",
       "      <th>154</th>\n",
       "      <td>Literary Spaces</td>\n",
       "      <td>6</td>\n",
       "      <td>13</td>\n",
       "      <td>0.315789</td>\n",
       "    </tr>\n",
       "    <tr>\n",
       "      <th>155</th>\n",
       "      <td>Dance</td>\n",
       "      <td>676</td>\n",
       "      <td>1542</td>\n",
       "      <td>0.304779</td>\n",
       "    </tr>\n",
       "    <tr>\n",
       "      <th>156</th>\n",
       "      <td>Anthologies</td>\n",
       "      <td>216</td>\n",
       "      <td>521</td>\n",
       "      <td>0.293080</td>\n",
       "    </tr>\n",
       "    <tr>\n",
       "      <th>157</th>\n",
       "      <td>Residencies</td>\n",
       "      <td>18</td>\n",
       "      <td>50</td>\n",
       "      <td>0.264706</td>\n",
       "    </tr>\n",
       "    <tr>\n",
       "      <th>158</th>\n",
       "      <td>Chiptune</td>\n",
       "      <td>6</td>\n",
       "      <td>27</td>\n",
       "      <td>0.181818</td>\n",
       "    </tr>\n",
       "  </tbody>\n",
       "</table>\n",
       "<p>159 rows × 4 columns</p>\n",
       "</div>"
      ],
      "text/plain": [
       "        sub_category  successful  failed  success_rate\n",
       "0               Apps        4909     378      0.928504\n",
       "1                Web        3866     443      0.897192\n",
       "2       Mobile Games        1290     153      0.893971\n",
       "3              Video         334      51      0.867532\n",
       "4        Food Trucks        1357     217      0.862135\n",
       "..               ...         ...     ...           ...\n",
       "154  Literary Spaces           6      13      0.315789\n",
       "155            Dance         676    1542      0.304779\n",
       "156      Anthologies         216     521      0.293080\n",
       "157      Residencies          18      50      0.264706\n",
       "158         Chiptune           6      27      0.181818\n",
       "\n",
       "[159 rows x 4 columns]"
      ]
     },
     "execution_count": 69,
     "metadata": {},
     "output_type": "execute_result"
    }
   ],
   "source": [
    "sub_categories = pd.DataFrame(df.groupby('sub_category')['outcome'].value_counts()).unstack().droplevel(0, axis=1).reset_index()\n",
    "sub_categories.columns = ['sub_category', 'successful', 'failed']\n",
    "\n",
    "sub_categories['success_rate'] = sub_categories['successful'] / (sub_categories['successful'] + sub_categories['failed'])\n",
    "\n",
    "sub_categories.sort_values('success_rate', ascending=False, inplace=True)\n",
    "sub_categories.reset_index(drop=True, inplace=True)\n",
    "\n",
    "sub_categories"
   ]
  },
  {
   "cell_type": "code",
   "execution_count": 70,
   "metadata": {},
   "outputs": [],
   "source": [
    "# Create mapping dictionaries for faster lookup\n",
    "main_category_success_rates = dict(zip(categories['main_category'], categories['success_rate']))\n",
    "sub_category_success_rates = dict(zip(sub_categories['sub_category'], sub_categories['success_rate']))\n",
    "\n",
    "# Vectorized mapping\n",
    "df['success_in_main_category'] = df['main_category'].map(main_category_success_rates)\n",
    "df['success_in_sub_category'] = df['sub_category'].map(sub_category_success_rates)"
   ]
  },
  {
   "cell_type": "code",
   "execution_count": 71,
   "metadata": {},
   "outputs": [
    {
     "data": {
      "image/png": "[encoded data removed]",
      "text/plain": [
       "<Figure size 800x800 with 2 Axes>"
      ]
     },
     "metadata": {},
     "output_type": "display_data"
    }
   ],
   "source": [
    "cols = ['success_in_main_category', 'success_in_sub_category', 'outcome_successful', 'outcome_failed', 'average_pledge', 'duration']\n",
    "\n",
    "# Calculate correlation matrix and visualize with seaborn\n",
    "correlation_matrix = df[cols].corr().round(6)\n",
    "plt.figure(figsize=(8, 8))\n",
    "sns.heatmap(correlation_matrix, annot=True, cmap='RdBu', vmin=-1, vmax=1, center=0)\n",
    "plt.title('Correlation Matrix')\n",
    "plt.tight_layout()\n",
    "\n",
    "\n",
    "\n"
   ]
  },
  {
   "cell_type": "markdown",
   "metadata": {},
   "source": [
    "Exercise 3: Information gain with numeric values\n",
    "We can compute information gains for segmenting by numeric values as well. For that purpose, we\n",
    "need to determine the “optimal cut-off”: the value that maximize information gain. We will do this for\n",
    "the variable campaign duration you created (in column Q in “Data”).\n",
    "To compute the optimal cut-off, go to sheet “Ex3” and compute:\n",
    "- For the full sample, count the number of campaigns (column A), the number that are successful\n",
    "(column B), the percentage that are successful (column C) and compute the Entropy (column D).\n",
    "As this is independent of the cut-off, you only have to do this once in row 3.\n",
    "- Now we need to split the sample by all potential cut-offs, that is by all observed durations (in\n",
    "column E). We split the sample in ‘below-or-equal to cut-off’ (columns F to J) and ‘above cut-off’\n",
    "(columns K to O).\n",
    "- For the first segment, compute the number of campaigns below/equal to cut-off (column F), the\n",
    "same as a fraction of all campaigns (column G), the number below/equal to cut-off that are\n",
    "successful (column H), and the percentage that are successful (column I). Now calculate the\n",
    "segment’s entropy (column J).\n",
    "Page 3 of 13\n",
    "Strategy Analytics Tutorial 2 © Martin C. Goossen / Peter Snoeren\n",
    "Note: if the Entropy formula provides an error, this is because the number of observations in the\n",
    "segment is 0 and entropy should therefore also be 0. You can use ‘=IFERROR()’ for that purpose.\n",
    "- Compute the same variables for the second segment, that is the segment above the cut-off values\n",
    "(column E) in columns K to O.\n",
    "- In column P, compute the information gain for each of the cut-off values using the entropies\n",
    "(columns D, J, and O) and fraction sizes (columns G and L) you computed before."
   ]
  },
  {
   "cell_type": "code",
   "execution_count": 72,
   "metadata": {},
   "outputs": [],
   "source": [
    "campaigns_total = len(df)\n",
    "campaigns_successful = df['outcome_successful'].sum()\n",
    "percentage_successful = campaigns_successful / campaigns_total\n",
    "entropy = -percentage_successful * np.log2(percentage_successful) - (1-percentage_successful) * np.log2(1-percentage_successful)\n",
    "\n",
    "descriptives = {\n",
    "    'campaigns_total': campaigns_total,\n",
    "    'campaigns_successful': campaigns_successful,\n",
    "    'percentage_successful': percentage_successful,\n",
    "    'entropy': entropy\n",
    "    }"
   ]
  },
  {
   "cell_type": "code",
   "execution_count": 73,
   "metadata": {},
   "outputs": [
    {
     "data": {
      "text/plain": [
       "duration                  28.000000\n",
       "campaigns               5515.000000\n",
       "successes               2792.000000\n",
       "prop_success               0.506256\n",
       "campaigns_cumsum       62887.000000\n",
       "successes_cumsum       33341.000000\n",
       "campaigns_above       268578.000000\n",
       "successes_above       100510.000000\n",
       "prop_success_below         0.530173\n",
       "prop_success_above         0.374230\n",
       "entropy_below              0.997371\n",
       "entropy_above              0.953865\n",
       "info_gain                  0.011020\n",
       "Name: 28, dtype: float64"
      ]
     },
     "execution_count": 73,
     "metadata": {},
     "output_type": "execute_result"
    }
   ],
   "source": [
    "df_duration = df.groupby('duration').agg({'outcome_successful': ['count', 'sum']})\n",
    "\n",
    "df_duration.columns = ['campaigns', 'successes']\n",
    "df_duration.reset_index(inplace=True)\n",
    "\n",
    "df_duration['prop_success'] = df_duration['successes'] / df_duration['campaigns']\n",
    "\n",
    "df_duration['campaigns_cumsum'] = df_duration['campaigns'].cumsum()\n",
    "df_duration['successes_cumsum'] = df_duration['successes'].cumsum()\n",
    "\n",
    "df_duration['campaigns_above'] = descriptives['campaigns_total'] - df_duration['campaigns_cumsum']\n",
    "df_duration['successes_above'] = descriptives['campaigns_successful'] - df_duration['successes_cumsum']\n",
    "\n",
    "df_duration['prop_success_below'] = df_duration['successes_cumsum'] / df_duration['campaigns_cumsum']\n",
    "df_duration['prop_success_above'] = df_duration['successes_above'] / df_duration['campaigns_above']\n",
    "\n",
    "df_duration['entropy_below'] = (- (df_duration.prop_success_below * np.log2(df_duration.prop_success_below)\n",
    "                                   + (1-df_duration.prop_success_below) * np.log2(1-df_duration.prop_success_below)))\n",
    "\n",
    "df_duration['entropy_above'] = (- (df_duration.prop_success_above * np.log2(df_duration.prop_success_above)\n",
    "                                   + (1-df_duration.prop_success_above) * np.log2(1-df_duration.prop_success_above)))\n",
    "\n",
    "\n",
    "df_duration['info_gain'] = (descriptives['entropy'] - \n",
    "                                  (df_duration['campaigns_cumsum'] / descriptives['campaigns_total'] * df_duration['entropy_below'] + \n",
    "                                   df_duration['campaigns_above'] / descriptives['campaigns_total'] * df_duration['entropy_above']))\n",
    "\n",
    "\n",
    "\n",
    "df_duration.loc[df_duration['info_gain'].idxmax()]\n"
   ]
  },
  {
   "cell_type": "markdown",
   "metadata": {},
   "source": [
    "Exercise 4: Logistic regression\n",
    "Run a logistic regression predicting if a project is successful using the following variables: Duration,\n",
    "Success in main category, and Success in sub-category."
   ]
  },
  {
   "cell_type": "code",
   "execution_count": 74,
   "metadata": {},
   "outputs": [
    {
     "data": {
      "text/html": [
       "<div>\n",
       "<style scoped>\n",
       "    .dataframe tbody tr th:only-of-type {\n",
       "        vertical-align: middle;\n",
       "    }\n",
       "\n",
       "    .dataframe tbody tr th {\n",
       "        vertical-align: top;\n",
       "    }\n",
       "\n",
       "    .dataframe thead th {\n",
       "        text-align: right;\n",
       "    }\n",
       "</style>\n",
       "<table border=\"1\" class=\"dataframe\">\n",
       "  <thead>\n",
       "    <tr style=\"text-align: right;\">\n",
       "      <th></th>\n",
       "      <th>duration</th>\n",
       "      <th>success_in_main_category</th>\n",
       "      <th>success_in_sub_category</th>\n",
       "      <th>outcome_successful</th>\n",
       "    </tr>\n",
       "  </thead>\n",
       "  <tbody>\n",
       "    <tr>\n",
       "      <th>duration</th>\n",
       "      <td>1.000000</td>\n",
       "      <td>-0.006195</td>\n",
       "      <td>0.023095</td>\n",
       "      <td>-0.116459</td>\n",
       "    </tr>\n",
       "    <tr>\n",
       "      <th>success_in_main_category</th>\n",
       "      <td>-0.006195</td>\n",
       "      <td>1.000000</td>\n",
       "      <td>0.690542</td>\n",
       "      <td>-0.215725</td>\n",
       "    </tr>\n",
       "    <tr>\n",
       "      <th>success_in_sub_category</th>\n",
       "      <td>0.023095</td>\n",
       "      <td>0.690542</td>\n",
       "      <td>1.000000</td>\n",
       "      <td>-0.308530</td>\n",
       "    </tr>\n",
       "    <tr>\n",
       "      <th>outcome_successful</th>\n",
       "      <td>-0.116459</td>\n",
       "      <td>-0.215725</td>\n",
       "      <td>-0.308530</td>\n",
       "      <td>1.000000</td>\n",
       "    </tr>\n",
       "  </tbody>\n",
       "</table>\n",
       "</div>"
      ],
      "text/plain": [
       "                          duration  success_in_main_category  \\\n",
       "duration                  1.000000                 -0.006195   \n",
       "success_in_main_category -0.006195                  1.000000   \n",
       "success_in_sub_category   0.023095                  0.690542   \n",
       "outcome_successful       -0.116459                 -0.215725   \n",
       "\n",
       "                          success_in_sub_category  outcome_successful  \n",
       "duration                                 0.023095           -0.116459  \n",
       "success_in_main_category                 0.690542           -0.215725  \n",
       "success_in_sub_category                  1.000000           -0.308530  \n",
       "outcome_successful                      -0.308530            1.000000  "
      ]
     },
     "execution_count": 74,
     "metadata": {},
     "output_type": "execute_result"
    }
   ],
   "source": [
    "ivs = ['duration', 'success_in_main_category', 'success_in_sub_category']\n",
    "dv = 'outcome_successful'\n",
    "\n",
    "df[ivs + [dv]].corr()"
   ]
  },
  {
   "cell_type": "code",
   "execution_count": 88,
   "metadata": {},
   "outputs": [
    {
     "name": "stdout",
     "output_type": "stream",
     "text": [
      "Optimization terminated successfully.\n",
      "         Current function value: 0.618500\n",
      "         Iterations 5\n",
      "                           Logit Regression Results                           \n",
      "==============================================================================\n",
      "Dep. Variable:     outcome_successful   No. Observations:               331465\n",
      "Model:                          Logit   Df Residuals:                   331461\n",
      "Method:                           MLE   Df Model:                            3\n",
      "Date:                 wo, 19 feb 2025   Pseudo R-squ.:                 0.08306\n",
      "Time:                        16:18:48   Log-Likelihood:            -2.0501e+05\n",
      "converged:                       True   LL-Null:                   -2.2358e+05\n",
      "Covariance Type:            nonrobust   LLR p-value:                     0.000\n",
      "============================================================================================\n",
      "                               coef    std err          z      P>|z|      [0.025      0.975]\n",
      "--------------------------------------------------------------------------------------------\n",
      "duration                    -0.0202      0.000    -65.204      0.000      -0.021      -0.020\n",
      "success_in_main_category     0.1327      0.049      2.686      0.007       0.036       0.229\n",
      "success_in_sub_category      4.4255      0.036    123.229      0.000       4.355       4.496\n",
      "constant                    -1.6108      0.018    -89.830      0.000      -1.646      -1.576\n",
      "============================================================================================\n"
     ]
    }
   ],
   "source": [
    "X = df[['duration', 'success_in_main_category', 'success_in_sub_category']].copy()\n",
    "X['success_in_main_category'] = 1 - X['success_in_main_category']\n",
    "X['success_in_sub_category'] = 1 - X['success_in_sub_category']\n",
    "X['constant'] = 1\n",
    "y = df[dv]\n",
    "model = sm.Logit(y, X).fit()\n",
    "print(model.summary().as_text())"
   ]
  },
  {
   "cell_type": "markdown",
   "metadata": {},
   "source": [
    "Exercise 5: Logistic probabilities\n",
    "Run a logistic regression predicting project success using the following variables: Duration, Success in\n",
    "main category, and Success in sub-category.\n",
    "Sheet “Ex5” contains the details of three new campaigns: A, B, and C. We would like to compute the\n",
    "chance that these will succeed using the formula from the logistic regression:\n",
    "\n",
    " P(P=Y) = e^(βX)/(1 + e^(βX)) = 1/(1 + e^(-βX))\n",
    " \n",
    " In order to do so, first copy the coefficients and constant from your regression to column F. Now\n",
    "compute the probability of campaigns success using the above formula.\n",
    "Hint: use =SUMPRODUCT() to simplify your calculations."
   ]
  },
  {
   "cell_type": "code",
   "execution_count": 91,
   "metadata": {},
   "outputs": [
    {
     "data": {
      "text/html": [
       "<div>\n",
       "<style scoped>\n",
       "    .dataframe tbody tr th:only-of-type {\n",
       "        vertical-align: middle;\n",
       "    }\n",
       "\n",
       "    .dataframe tbody tr th {\n",
       "        vertical-align: top;\n",
       "    }\n",
       "\n",
       "    .dataframe thead th {\n",
       "        text-align: right;\n",
       "    }\n",
       "</style>\n",
       "<table border=\"1\" class=\"dataframe\">\n",
       "  <thead>\n",
       "    <tr style=\"text-align: right;\">\n",
       "      <th></th>\n",
       "      <th>duration</th>\n",
       "      <th>success_in_main_category</th>\n",
       "      <th>success_in_sub_category</th>\n",
       "      <th>constant</th>\n",
       "    </tr>\n",
       "  </thead>\n",
       "  <tbody>\n",
       "    <tr>\n",
       "      <th>0</th>\n",
       "      <td>60</td>\n",
       "      <td>0.4</td>\n",
       "      <td>0.6</td>\n",
       "      <td>1</td>\n",
       "    </tr>\n",
       "    <tr>\n",
       "      <th>1</th>\n",
       "      <td>30</td>\n",
       "      <td>0.6</td>\n",
       "      <td>0.3</td>\n",
       "      <td>1</td>\n",
       "    </tr>\n",
       "    <tr>\n",
       "      <th>2</th>\n",
       "      <td>90</td>\n",
       "      <td>0.5</td>\n",
       "      <td>0.4</td>\n",
       "      <td>1</td>\n",
       "    </tr>\n",
       "  </tbody>\n",
       "</table>\n",
       "</div>"
      ],
      "text/plain": [
       "   duration  success_in_main_category  success_in_sub_category  constant\n",
       "0        60                       0.4                      0.6         1\n",
       "1        30                       0.6                      0.3         1\n",
       "2        90                       0.5                      0.4         1"
      ]
     },
     "execution_count": 91,
     "metadata": {},
     "output_type": "execute_result"
    }
   ],
   "source": [
    "# Create dataframe from the campaign data\n",
    "campaigns = pd.DataFrame({\n",
    "    'duration': [60, 30, 90],\n",
    "    'success_in_main_category': [0.4, 0.6, 0.5], \n",
    "    'success_in_sub_category': [0.6, 0.3, 0.4],\n",
    "    'constant': [1, 1, 1]\n",
    "})\n",
    "\n",
    "campaigns\n"
   ]
  },
  {
   "cell_type": "code",
   "execution_count": 92,
   "metadata": {},
   "outputs": [
    {
     "data": {
      "text/plain": [
       "0    0.472070\n",
       "1    0.308265\n",
       "2    0.169612\n",
       "dtype: float64"
      ]
     },
     "execution_count": 92,
     "metadata": {},
     "output_type": "execute_result"
    }
   ],
   "source": [
    "model.predict(campaigns)"
   ]
  },
  {
   "cell_type": "code",
   "execution_count": 113,
   "metadata": {},
   "outputs": [
    {
     "name": "stdout",
     "output_type": "stream",
     "text": [
      "Accuracy: 0.6580\n",
      "Accuracy if predicting all successful: 0.404\n",
      "Accuracy if predicting all successful: 0.596\n"
     ]
    }
   ],
   "source": [
    "predictions = (model.predict(X) > 0.5).astype(int)\n",
    "accuracy = (predictions == y).mean()\n",
    "print(f\"Accuracy: {accuracy:.4f}\")\n",
    "\n",
    "# Create all-successful predictions (all 1s)\n",
    "all_successful = pd.Series(1, index=y.index)\n",
    "\n",
    "# Calculate accuracy\n",
    "accuracy = (all_successful == y).mean()\n",
    "print(f\"Accuracy if predicting all successful: {accuracy:.3f}\")\n",
    "\n",
    "# Create all-successful predictions (all 1s)\n",
    "all_successful = pd.Series(0, index=y.index)\n",
    "\n",
    "# Calculate accuracy\n",
    "accuracy = (all_successful == y).mean()\n",
    "print(f\"Accuracy if predicting all successful: {accuracy:.3f}\")"
   ]
  },
  {
   "cell_type": "code",
   "execution_count": 111,
   "metadata": {},
   "outputs": [
    {
     "name": "stdout",
     "output_type": "stream",
     "text": [
      "Accuracy if predicting all successful: 0.596\n"
     ]
    }
   ],
   "source": []
  },
  {
   "cell_type": "code",
   "execution_count": null,
   "metadata": {},
   "outputs": [],
   "source": []
  }
 ],
 "metadata": {
  "kernelspec": {
   "display_name": "Python 3",
   "language": "python",
   "name": "python3"
  },
  "language_info": {
   "codemirror_mode": {
    "name": "ipython",
    "version": 3
   },
   "file_extension": ".py",
   "mimetype": "text/x-python",
   "name": "python",
   "nbconvert_exporter": "python",
   "pygments_lexer": "ipython3",
   "version": "3.12.2"
  }
 },
 "nbformat": 4,
 "nbformat_minor": 2
}
