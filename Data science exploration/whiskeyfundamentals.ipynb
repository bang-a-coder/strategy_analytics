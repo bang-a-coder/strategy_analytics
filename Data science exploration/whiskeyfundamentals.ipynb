{
 "cells": [
  {
   "cell_type": "code",
   "execution_count": 1,
   "metadata": {},
   "outputs": [],
   "source": [
    "import pandas as pd\n",
    "import numpy as np"
   ]
  },
  {
   "cell_type": "code",
   "execution_count": 2,
   "metadata": {},
   "outputs": [],
   "source": [
    "df = pd.read_csv(\"./Data/scotch.csv\", sep=\",\")"
   ]
  },
  {
   "cell_type": "code",
   "execution_count": 3,
   "metadata": {},
   "outputs": [],
   "source": [
    "new_columns = []\n",
    "for col in df.columns:\n",
    "    first_value = df[col].iloc[0]\n",
    "    if pd.isna(first_value):\n",
    "        new_columns.append(col)\n",
    "    elif col.startswith('Unnamed'):\n",
    "        new_columns.append(first_value)\n",
    "    else:\n",
    "        new_columns.append(f\"{col}_{first_value}\")\n",
    "        \n",
    "df.columns = new_columns\n",
    "df = df.iloc[1:].reset_index(drop=True)\n",
    "df = df.iloc[:-1]\n"
   ]
  },
  {
   "cell_type": "code",
   "execution_count": 57,
   "metadata": {},
   "outputs": [
    {
     "name": "stdout",
     "output_type": "stream",
     "text": [
      "color\n"
     ]
    },
    {
     "data": {
      "text/plain": [
       "Index(['color_wyne', 'color.1_yellow', 'color.2_v.pale', 'color.3_pale',\n",
       "       'color.4_p.gold', 'color.5_gold', 'color.6_o.gold', 'color.7_f.gold',\n",
       "       'color.8_bronze', 'color.9_p.amber', 'color.10_amber',\n",
       "       'color.11_f.amber', 'color.12_red', 'color.13_sherry', 'color'],\n",
       "      dtype='object')"
      ]
     },
     "execution_count": 57,
     "metadata": {},
     "output_type": "execute_result"
    }
   ],
   "source": [
    "#Turn color into categorical\n",
    "# prefixes = ['color']\n",
    "\n",
    "# col_groups = {}\n",
    "# for col in df.columns:\n",
    "#     matching_pref = next((p for p in prefixes if col.startswith(p)), None)\n",
    "#     if matching_pref:\n",
    "#         col_groups.setdefault(matching_pref, []).append(col)\n",
    "\n",
    "# df_clean = df[sum(col_groups.values(), [])]\n",
    "# df_clean = df_clean.dropna()\n",
    "# df_clean = df_clean.reset_index(drop=True)\n",
    "# df_clean = df_clean.apply(pd.to_numeric)\n",
    "# df_clean = df_clean.astype(int)\n",
    "\n",
    "# for prefix in prefixes:\n",
    "#     print(prefix)\n",
    "#     df_clean[prefix] = pd.from_dummies(df_clean[col_groups[prefix]])\n",
    "\n",
    "# df_clean.columns\n"
   ]
  },
  {
   "cell_type": "code",
   "execution_count": null,
   "metadata": {},
   "outputs": [],
   "source": [
    "def preprocess_scotch_data(df):\n",
    "    # Categorical columns that should be one-hot encoded\n",
    "    categorical_cols = ['REGION', 'DISTRICT']\n",
    "    \n",
    "    # Columns that should remain numerical\n",
    "    numerical_cols = ['AGE', 'SCORE', '%']\n",
    "    \n",
    "    # Convert all binary columns to 0/1 (they're already correct in your data)\n",
    "    # Convert categorical columns to dummy variables\n",
    "    df_encoded = pd.get_dummies(df, columns=categorical_cols, prefix=categorical_cols)\n",
    "    \n",
    "    return df_encoded\n",
    "\n",
    "df_clean = preprocess_scotch_data(df)\n"
   ]
  },
  {
   "cell_type": "markdown",
   "metadata": {},
   "source": [
    "# Entropy and information gain"
   ]
  },
  {
   "cell_type": "code",
   "execution_count": null,
   "metadata": {},
   "outputs": [],
   "source": [
    "def information_entropy(df):\n",
    "    # Calculate the entropy of the target variable\n",
    "    for col in df.columns:\n",
    "        "
   ]
  },
  {
   "cell_type": "code",
   "execution_count": null,
   "metadata": {},
   "outputs": [],
   "source": [
    "subset = df[['FIN.16_long','FIN.1_dry', 'SCORE']]\n",
    "\n",
    "entropy = 1\n",
    "\n",
    "for col in subset.columns:\n",
    "    total = len(subset)\n",
    "    counts = subset[col].value_counts()\n",
    "    for count in counts:\n",
    "        probability_of_value = count/total\n",
    "        print(probability_of_value)\n",
    "        entropy -= probability_of_value * np.log2(probability_of_value)\n",
    "\n",
    "entropy\n"
   ]
  },
  {
   "cell_type": "code",
   "execution_count": null,
   "metadata": {},
   "outputs": [],
   "source": []
  }
 ],
 "metadata": {
  "kernelspec": {
   "display_name": "Python 3",
   "language": "python",
   "name": "python3"
  },
  "language_info": {
   "codemirror_mode": {
    "name": "ipython",
    "version": 3
   },
   "file_extension": ".py",
   "mimetype": "text/x-python",
   "name": "python",
   "nbconvert_exporter": "python",
   "pygments_lexer": "ipython3",
   "version": "3.12.2"
  }
 },
 "nbformat": 4,
 "nbformat_minor": 2
}
